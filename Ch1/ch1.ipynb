{
 "cells": [
  {
   "cell_type": "code",
   "execution_count": null,
   "id": "ea350515",
   "metadata": {},
   "outputs": [
    {
     "data": {
      "text/html": [
       "<div id=\"glowscript\" class=\"glowscript\"></div>"
      ],
      "text/plain": [
       "<IPython.core.display.HTML object>"
      ]
     },
     "metadata": {},
     "output_type": "display_data"
    },
    {
     "data": {
      "application/javascript": [
       "if (typeof Jupyter !== \"undefined\") { window.__context = { glowscript_container: $(\"#glowscript\").removeAttr(\"id\")};}else{ element.textContent = ' ';}"
      ],
      "text/plain": [
       "<IPython.core.display.Javascript object>"
      ]
     },
     "metadata": {},
     "output_type": "display_data"
    },
    {
     "name": "stdout",
     "output_type": "stream",
     "text": [
      "Gauss-Seidel converged after 400 iterations\n",
      "time,x,v,KE,PE\n"
     ]
    },
    {
     "data": {
      "application/javascript": [
       "if (typeof Jupyter !== \"undefined\") {require.undef(\"nbextensions/vpython_libraries/glow.min\");}else{element.textContent = ' ';}"
      ],
      "text/plain": [
       "<IPython.core.display.Javascript object>"
      ]
     },
     "metadata": {},
     "output_type": "display_data"
    },
    {
     "data": {
      "application/javascript": [
       "if (typeof Jupyter !== \"undefined\") {require.undef(\"nbextensions/vpython_libraries/glowcomm\");}else{element.textContent = ' ';}"
      ],
      "text/plain": [
       "<IPython.core.display.Javascript object>"
      ]
     },
     "metadata": {},
     "output_type": "display_data"
    },
    {
     "data": {
      "application/javascript": [
       "if (typeof Jupyter !== \"undefined\") {require.undef(\"nbextensions/vpython_libraries/jquery-ui.custom.min\");}else{element.textContent = ' ';}"
      ],
      "text/plain": [
       "<IPython.core.display.Javascript object>"
      ]
     },
     "metadata": {},
     "output_type": "display_data"
    },
    {
     "data": {
      "application/javascript": [
       "if (typeof Jupyter !== \"undefined\") {require([\"nbextensions/vpython_libraries/glow.min\"], function(){console.log(\"GLOW LOADED\");});}else{element.textContent = ' ';}"
      ],
      "text/plain": [
       "<IPython.core.display.Javascript object>"
      ]
     },
     "metadata": {},
     "output_type": "display_data"
    },
    {
     "data": {
      "application/javascript": [
       "if (typeof Jupyter !== \"undefined\") {require([\"nbextensions/vpython_libraries/glowcomm\"], function(){console.log(\"GLOWCOMM LOADED\");});}else{element.textContent = ' ';}"
      ],
      "text/plain": [
       "<IPython.core.display.Javascript object>"
      ]
     },
     "metadata": {},
     "output_type": "display_data"
    },
    {
     "data": {
      "application/javascript": [
       "if (typeof Jupyter !== \"undefined\") {require([\"nbextensions/vpython_libraries/jquery-ui.custom.min\"], function(){console.log(\"JQUERY LOADED\");});}else{element.textContent = ' ';}"
      ],
      "text/plain": [
       "<IPython.core.display.Javascript object>"
      ]
     },
     "metadata": {},
     "output_type": "display_data"
    },
    {
     "name": "stdout",
     "output_type": "stream",
     "text": [
      "ts: 1, x:0.020000477391142878, v:4773.91142877102, KE:6.478840157052801e-05, PE:8.142688544524454\n",
      "ts: 1000, x:0.025967930717647532, v:-1016866.364133255, KE:2.9395192930241474, PE:5.239943273856877\n",
      "ts: 2000, x:0.041497309733909526, v:-1624386.2828259654, KE:7.501138387953782, PE:0.6905287377496022\n",
      "ts: 3000, x:0.060409586511715976, v:-1585624.5485511478, KE:7.147419501798294, PE:1.015332919350172\n",
      "ts: 4000, x:0.07518028388288808, v:-916002.9842749893, KE:2.385296264794243, PE:5.767230340040832\n",
      "\n",
      "\n",
      "\n",
      "\n",
      "\n"
     ]
    },
    {
     "data": {
      "text/html": [
       "<div id=\"glowscript\" class=\"glowscript\"></div>"
      ],
      "text/plain": [
       "<IPython.core.display.HTML object>"
      ]
     },
     "metadata": {},
     "output_type": "display_data"
    },
    {
     "data": {
      "application/javascript": [
       "if (typeof Jupyter !== \"undefined\") { window.__context = { glowscript_container: $(\"#glowscript\").removeAttr(\"id\")};}else{ element.textContent = ' ';}"
      ],
      "text/plain": [
       "<IPython.core.display.Javascript object>"
      ]
     },
     "metadata": {},
     "output_type": "display_data"
    }
   ],
   "source": [
    "from vpython import *\n",
    "\n",
    "\n",
    "QE = 1.602176565e-19        # C, electron charge\n",
    "EPS_0 = 8.85418782e-12      # C/V/m, vacuum perm.\n",
    "ME = 9.10938215e-31         # kg, electron mass\n",
    "\n",
    "# converts physical position x to a logical coordinate l\n",
    "def XtoL(x, dx, x0=0): \n",
    "    return (x-x0)/dx\n",
    "\n",
    "ni = 21     # number of nodes\n",
    "x0 = 0      # origin\n",
    "xd = 0.1    # opposite end\n",
    "x = 0\n",
    "v = 0\n",
    "dx = (xd-x0)/(ni-1)     # node spacing\n",
    "\n",
    "rho = [QE*1e12]*ni\n",
    "ef = [0]*ni\n",
    "phi = [0]*ni\n",
    "\n",
    "# generate a test electron\n",
    "m = ME\n",
    "q = -QE\n",
    "x = 4*dx    # four cells from left edge\n",
    "v = 0       # stationary\n",
    "\n",
    "dt = 1e-10  # timestep\n",
    "\n",
    "def main():\n",
    "    global ef, phi, rho, x, v, phi_max\n",
    "    # solve potential\n",
    "    solvePotentialGS(dx,phi,rho,5000)\n",
    "    #solvePotentialDirect(dx,phi,rho)  # alternate solver\n",
    "\n",
    "    # compute electric field\n",
    "    ef = computeEF(dx, ef, phi, True)\n",
    "\n",
    "    # velocity rewind\n",
    "    li = XtoL(x,dx)\n",
    "    ef_p = gather(li,ef)\n",
    "    v -= 0.5*(q/m)*ef_p*dt\n",
    "\n",
    "    # save initial potential for PE calculation\n",
    "    phi_max = phi[0]\n",
    "    for i in range(1,ni):\n",
    "        if (phi[i]>phi_max): phi_max = phi[i]\n",
    "\n",
    "    print(\"time,x,v,KE,PE\")\n",
    "    x_old = x\n",
    "\n",
    "    strs = []\n",
    "    outstrs = []\n",
    "    oscillation = graph(title=\"particle oscillation\", xtitle='time', ytitle='x position', fast=False, width=800)\n",
    "    funct1 = gcurve(color=color.blue, width=4, markers=True, marker_color=color.orange, label='particle motion')\n",
    "\n",
    "\n",
    "    # particle loop\n",
    "    for ts in range(1,4001):\n",
    "        # sample mesh data at particle position\n",
    "        li = XtoL(x,dx)\n",
    "        ef_p = gather(li,ef)\n",
    "\n",
    "        # integrate velocity and position\n",
    "        x_old = x\n",
    "        v += (q/m)*ef_p*dt\n",
    "        x += v*dt\n",
    "\n",
    "        phi_p = gather(XtoL(0.5*(x+x_old),dx),phi)\n",
    "        ke = 0.5*m*v*v/QE\n",
    "        pe = q*(phi_p-phi_max)/QE\n",
    "\n",
    "        outstrs.append(\"{}, {}, {}, {}\".format(ts*dt, x, v, ke, pe))\n",
    "\n",
    "        if (ts==1 or ts%25==0):\n",
    "            rate(100)\n",
    "            funct1.plot(ts*dt,x)\n",
    "\n",
    "        if (ts==1 or ts%1000==0):  # screen output every 1000 timesteps\n",
    "            strs.append(\"ts: {}, x:{}, v:{}, KE:{}, PE:{}\".format(ts,x,v,ke,pe))\n",
    "\n",
    "    for s in strs:\n",
    "        print(s)\n",
    "\n",
    "    print(\"\\n\\n\\n\\n\")\n",
    "    s_n = \"\\n\".join(outstrs)\n",
    "    #print(s_n)\n",
    "    outstrs = []\n",
    "    s_n = \"\"\n",
    "\n",
    "    # ouput to a CSV file for plotting\n",
    "    outputCSV(x0,dx,phi,rho,ef);\t\n",
    "\n",
    "\n",
    "# plots the CSV data\n",
    "def outputCSV(x0, dx, phi, rho, ef):\n",
    "\n",
    "    g1 = graph(fast=False)\n",
    "\n",
    "    funct1 = gdots(color=color.red, size=6, label='phi')\n",
    "    funct2 = gdots(color=color.green, label='rho')\n",
    "    funct3 = gcurve(color=color.blue, label='elec field')\n",
    "\n",
    "    for i in range(len(phi)):\n",
    "        funct1.plot(x0+i*dx, phi[i])\n",
    "        funct2.plot(x0+i*dx, rho[i])\n",
    "        funct3.plot(x0+i*dx, ef[i])\n",
    "\n",
    "\n",
    "# solves Poisson's equation with Dirichlet boundaries using the Thomas algorithm\n",
    "def solvePotentialDirect(dx, phi, rho):\n",
    "    ni = len(phi)       # number of mesh nodes\n",
    "    a = [0]*ni          # allocate memory for matrix coefficients\n",
    "    b = [0]*ni\n",
    "    c = [0]*ni\n",
    "    d = [0]*ni\n",
    "\n",
    "    # set coefficients\n",
    "    for i in range(ni):\n",
    "        if (i==0) or (i==ni-1):\n",
    "            b[i] = 1\n",
    "            d[i] = 0\n",
    "        else:\n",
    "            a[i] = 1/(dx*dx)\n",
    "            b[i] = -2/(dx*dx)\n",
    "            c[i] = 1/(dx*dx)\n",
    "            d[i] = -rho[i]/EPS_0\n",
    "    # initialize\n",
    "    c[0] = c[0]/b[0]\n",
    "    d[0] = d[0]/b[0]\n",
    "    # forward step\n",
    "    for i in range(1,ni):\n",
    "        if (i<ni-1):\n",
    "            c[i] = c[i]/(b[i]-a[i]*c[i-1])\n",
    "        d[i] = (d[i] - a[i]*d[i-1])/(b[i] - a[i]*c[i-1])\n",
    "    # backward substitution\n",
    "    phi[ni-1] = d[ni-1]\n",
    "    for i in range(ni-2,0,-1):\n",
    "        phi[i] = d[i] - c[i]*phi[i+1]\n",
    "\n",
    "\n",
    "# solves potential using the Gauss Seidel Method, returns true if converged\n",
    "def solvePotentialGS(dx, phi, rho, max_it = 5000):\n",
    "    L2 = None\n",
    "    dx2 = dx*dx;\t\t# precompute dx*dx\n",
    "    w = 1.4\n",
    "    ni = len(phi)\n",
    "    \n",
    "    # solve potential\n",
    "    for solver_it in range(max_it):\n",
    "        phi[0] = 0          # dirichlet boundary on left\n",
    "        phi[ni-1] = 0       # dirichlet boundary on right\n",
    "        \n",
    "        # Gauss Seidel method, phi[i-1]-2*phi[i]+phi[i+1] = -dx^2*rho[i]/eps_0\n",
    "        for i in range(1, ni-1):\n",
    "            g = 0.5*(phi[i-1] + phi[i+1] + dx2*rho[i]/EPS_0)\n",
    "            phi[i] = phi[i] + w*(g-phi[i])  # SOR\n",
    "        \n",
    "        # check for convergence\n",
    "        if (solver_it%50==0):\n",
    "            sum = 0\n",
    "            \n",
    "            # internal nodes, automatically satisfied on Dirichlet boundaries\n",
    "            for i in range(1, ni-1):\n",
    "                R = -rho[i]/EPS_0 - (phi[i-1] - 2*phi[i] + phi[i+1])/dx2\n",
    "                sum+=R*R\n",
    "            L2 = sqrt(sum)/ni\n",
    "            if (L2<1e-6):\n",
    "                print(\"Gauss-Seidel converged after {} iterations\".format(solver_it))\n",
    "                return False\n",
    "    print(\"Gauss-Seidel failed to converge, L2=\",L2)\n",
    "    return True\n",
    "    \n",
    "def computeEF(dx, ef, phi, second_order=True):\n",
    "    ni = len(phi)\n",
    "    \n",
    "    # central difference on internal nodes\n",
    "    for i in range(1, ni-1):\n",
    "        ef[i] = -(phi[i+1]-phi[i-1])/(2*dx)\n",
    "    # boundaries\n",
    "    if (second_order):\n",
    "        ef[0] = (3*phi[0]-4*phi[1]+phi[2])/(2*dx)\n",
    "        ef[ni-1] = (-phi[ni-3]+4*phi[ni-2]-3*phi[ni-1])/(2*dx)\n",
    "    else:\n",
    "        ef[0] = (phi[0]-phi[1])/dx\n",
    "        ef[ni-1] = (phi[ni-2]-phi[ni-1])/dx\n",
    "    return ef\n",
    "\n",
    "def gather(li, f):\n",
    "    i = int(li)\n",
    "    di = li-i\n",
    "    return f[i]*(1-di) + f[i+1]*(di)\n",
    "\n",
    "main()\n",
    "\n",
    "scene = canvas()\n",
    "side = 4.0\n",
    "thk = 0.3\n",
    "s2 = 2*side - thk\n",
    "s3 = 2*side + thk\n",
    "\n",
    "wallR = box (pos=vector( side, 0, 0), size=vector(thk, s2, s3),  color = color.red)\n",
    "wallL = box (pos=vector(-side, 0, 0), size=vector(thk, s2, s3),  color = color.red)\n",
    "\n",
    "ball = sphere (color = color.green, radius = 0.4)\n",
    "ball.mass = 1.0\n",
    "ball.p = vector (-0.15, -0.23, +0.27)\n",
    "\n",
    "# VPython particle motion simulation\n",
    "while True:\n",
    "    # sample mesh data at particle position\n",
    "    li = XtoL(x,dx)\n",
    "    ef_p = gather(li,ef)\n",
    "    \n",
    "    # integrate velocity and position\n",
    "    x_old = x\n",
    "    v += (q/m)*ef_p*dt\n",
    "    x += v*dt\n",
    "    \n",
    "    phi_p = gather(XtoL(0.5*(x+x_old),dx),phi)\n",
    "    ke = 0.5*m*v*v/QE\n",
    "    pe = q*(phi_p-phi_max)/QE\n",
    "    \n",
    "    rate(400)\n",
    "    ball.pos.x = x*2*side/xd - side\n",
    "\n"
   ]
  },
  {
   "cell_type": "code",
   "execution_count": null,
   "id": "4b81b40a",
   "metadata": {},
   "outputs": [],
   "source": []
  }
 ],
 "metadata": {
  "@webio": {
   "lastCommId": null,
   "lastKernelId": null
  },
  "kernelspec": {
   "display_name": "Python 3",
   "language": "python",
   "name": "python3"
  },
  "language_info": {
   "codemirror_mode": {
    "name": "ipython",
    "version": 3
   },
   "file_extension": ".py",
   "mimetype": "text/x-python",
   "name": "python",
   "nbconvert_exporter": "python",
   "pygments_lexer": "ipython3",
   "version": "3.7.6"
  }
 },
 "nbformat": 4,
 "nbformat_minor": 5
}
